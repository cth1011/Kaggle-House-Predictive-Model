{
  "cells": [
    {
      "metadata": {
        "_uuid": "8f2839f25d086af736a60e9eeb907d3b93b6e0e5",
        "_cell_guid": "b1076dfc-b9ad-4769-8c92-a6c4dae69d19",
        "trusted": false,
        "collapsed": true
      },
      "cell_type": "code",
      "source": "# This Python 3 environment comes with many helpful analytics libraries installed\n# It is defined by the kaggle/python docker image: https://github.com/kaggle/docker-python\n# For example, here's several helpful packages to load in \n\nimport numpy as np # linear algebra\nimport pandas as pd # data processing, CSV file I/O (e.g. pd.read_csv)\n\n# Input data files are available in the \"../input/\" directory.\n# For example, running this (by clicking run or pressing Shift+Enter) will list the files in the input directory\n\nimport os\nprint(os.listdir(\"../input\"))\nhouse_file_path = '../input/train.csv'\nhouse_data = pd.read_csv(house_file_path)\nprint(house_data.describe())\n# Any results you write to the current directory are saved as output.",
      "execution_count": null,
      "outputs": []
    },
    {
      "metadata": {
        "_uuid": "8bb291b457d1a2f51e9ff9d24835576312f078d3",
        "_cell_guid": "63e18630-0c7b-4cec-82f4-a56e66c07da1",
        "trusted": false,
        "collapsed": true
      },
      "cell_type": "code",
      "source": "print(house_data.columns)",
      "execution_count": null,
      "outputs": []
    },
    {
      "metadata": {
        "_uuid": "d629ff2d2480ee46fbb7e2d37f6b5fab8052498a",
        "_cell_guid": "79c7e3d0-c299-4dcb-8224-4455121ee9b0",
        "trusted": false,
        "collapsed": true
      },
      "cell_type": "code",
      "source": "house_price_data = house_data.SalePrice\nprint(house_price_data.head())\ncolumns_of_interest = ['LotArea','OverallQual', 'YearBuilt','1stFlrSF','2ndFlrSF', 'BedroomAbvGr','TotRmsAbvGrd','FullBath']\ncolumns_of_data = house_data[columns_of_interest]",
      "execution_count": null,
      "outputs": []
    },
    {
      "metadata": {
        "_uuid": "ef571b5347ada42417bcf6a5cbe563c35a848c8d",
        "_cell_guid": "6665df2c-69d3-4633-89de-d415ab525175",
        "trusted": false,
        "collapsed": true
      },
      "cell_type": "code",
      "source": "columns_of_data.describe()",
      "execution_count": null,
      "outputs": []
    },
    {
      "metadata": {
        "_uuid": "268b258b5030f946fe5f5e8731037438027ec4c8",
        "_cell_guid": "137733af-072f-446d-9db5-6bb99fc2098e",
        "trusted": false,
        "collapsed": true
      },
      "cell_type": "code",
      "source": "from sklearn.tree import DecisionTreeRegressor\n\nhouse_model = DecisionTreeRegressor()\n#Fit Mode\nhouse_model.fit(columns_of_data, house_price_data)",
      "execution_count": null,
      "outputs": []
    },
    {
      "metadata": {
        "scrolled": true,
        "_uuid": "2825a4ed2f5422536c7f7774e67b8f5a1c534cb8",
        "_cell_guid": "f822f203-af3f-49d7-9b45-98cdd12236d6",
        "trusted": false,
        "collapsed": true
      },
      "cell_type": "code",
      "source": "print (\"Making predictions for the following 5 houses:\")\nprint (columns_of_data.head())\nprint (\"The predictions are\")\nprint (house_model.predict(columns_of_data.head()))",
      "execution_count": null,
      "outputs": []
    },
    {
      "metadata": {
        "_uuid": "3494d119a5d0fa8bc19eceab043d89e07ca98c8a",
        "_cell_guid": "b0755ab9-1929-4559-8d1c-db501dd8bf52",
        "trusted": false,
        "collapsed": true
      },
      "cell_type": "code",
      "source": "from sklearn.metrics import mean_absolute_error\n\npredicted_home_prices = house_model.predict(columns_of_data)\nmean_absolute_error(house_price_data, predicted_home_prices)",
      "execution_count": null,
      "outputs": []
    },
    {
      "metadata": {
        "_uuid": "aec9a6dc55e7cbe6a5fc8641a3f5bca01c8cb2bd",
        "_cell_guid": "c6880c39-0dff-401b-9839-5ed49229de9b",
        "trusted": false,
        "collapsed": true
      },
      "cell_type": "code",
      "source": "from sklearn.model_selection import train_test_split\n\ntrain_X, val_X, train_y, val_y = train_test_split(columns_of_data, house_price_data, random_state=0)\n\nhouse_model = DecisionTreeRegressor()\nhouse_model.fit(train_X, train_y)\n\nval_predictions = house_model.predict(val_X)\nprint(mean_absolute_error(val_y,val_predictions))",
      "execution_count": null,
      "outputs": []
    },
    {
      "metadata": {
        "_uuid": "6188081761cb3c73b5c686073ff6239e4f71607e",
        "_cell_guid": "73a0be87-c066-4a7f-bb0c-b7616f067e5c",
        "trusted": false,
        "collapsed": true
      },
      "cell_type": "code",
      "source": "def get_mae(max_leaf_nodes, predictors_train, predictors_val, targ_train, targ_val):\n    model = DecisionTreeRegressor(max_leaf_nodes=max_leaf_nodes,random_state=0)\n    model.fit(predictors_train,targ_train)\n    preds_val = model.predict(predictors_val)\n    mae = mean_absolute_error(targ_val, preds_val)\n    return (mae)\n\nfor max_leaf_nodes in [5,50, 500, 5000]:\n    my_mae = get_mae(max_leaf_nodes, train_X, val_X, train_y, val_y)\n    print(\"Max leaf nodes: %d  \\t\\t Mean Absolute Error:  %d\" %(max_leaf_nodes, my_mae))",
      "execution_count": null,
      "outputs": []
    },
    {
      "metadata": {
        "_uuid": "d5b50730a91ddfe8c7543280873b5512f01d0d7b",
        "_cell_guid": "af9bb29f-04b6-4a2a-aa8e-2fd47575bc32",
        "trusted": false,
        "collapsed": true
      },
      "cell_type": "code",
      "source": "from sklearn.ensemble import RandomForestRegressor\nfrom sklearn.metrics import mean_absolute_error\n\nforest_model = RandomForestRegressor()\nforest_model.fit(train_X, train_y)\nhouse_preds = forest_model.predict(val_X)\nprint(mean_absolute_error(val_y, house_preds))",
      "execution_count": null,
      "outputs": []
    },
    {
      "metadata": {
        "_uuid": "15b67b5378388ee4e80ff45d70f0a66031a4bd81",
        "_cell_guid": "fd8b7612-a5a7-494e-a0e9-f6cb6a62f60e",
        "trusted": false,
        "collapsed": true
      },
      "cell_type": "code",
      "source": "test = pd.read_csv(\"../input/test.csv\")\ntest_X = test[columns_of_interest]\n\npredicted_prices = forest_model.predict(test_X)\nprint(predicted_prices)",
      "execution_count": null,
      "outputs": []
    },
    {
      "metadata": {
        "_uuid": "ae2d07b3489d109ea418546625fd3b902b92718f",
        "_cell_guid": "3f7ab302-bc75-408e-9087-b9fc22c0d682",
        "trusted": false,
        "collapsed": true
      },
      "cell_type": "code",
      "source": "my_submission = pd.DataFrame({'Id': test.Id, 'SalePrice': predicted_prices})\nmy_submission.to_csv('submission.csv', index=False)",
      "execution_count": null,
      "outputs": []
    }
  ],
  "metadata": {
    "kernelspec": {
      "display_name": "Python 3",
      "language": "python",
      "name": "python3"
    },
    "language_info": {
      "pygments_lexer": "ipython3",
      "codemirror_mode": {
        "version": 3,
        "name": "ipython"
      },
      "nbconvert_exporter": "python",
      "mimetype": "text/x-python",
      "version": "3.6.4",
      "name": "python",
      "file_extension": ".py"
    }
  },
  "nbformat": 4,
  "nbformat_minor": 1
}